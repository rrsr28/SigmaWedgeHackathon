{
 "cells": [
  {
   "cell_type": "markdown",
   "id": "645daa79-f8d4-4965-b95a-26950650e68c",
   "metadata": {},
   "source": [
    "##### Participant - Sanjay Ram R R"
   ]
  },
  {
   "cell_type": "markdown",
   "id": "3c99ee67-f2f1-4e43-ba41-3c6bfab235b0",
   "metadata": {
    "tags": []
   },
   "source": [
    "# Setting up License key"
   ]
  },
  {
   "cell_type": "code",
   "execution_count": 1,
   "id": "d0ec2263-5515-4912-bf7e-e1bbbc9f9c59",
   "metadata": {
    "tags": []
   },
   "outputs": [
    {
     "data": {
      "text/plain": [
       "{'licensekey': '725c........6afe', 'software_license': {}}"
      ]
     },
     "execution_count": 1,
     "metadata": {},
     "output_type": "execute_result"
    }
   ],
   "source": [
    "# Setting the QuantRocket license with the provided license key\n",
    "\n",
    "from quantrocket.license import set_license\n",
    "set_license(\"YOUR-LICENSE-KEY\")"
   ]
  },
  {
   "cell_type": "markdown",
   "id": "ed87308b-ea06-4e3a-8213-8b4b4f22fc3e",
   "metadata": {
    "tags": []
   },
   "source": [
    "# Setting up the Universe"
   ]
  },
  {
   "cell_type": "code",
   "execution_count": null,
   "id": "ec5cfda9-13b6-4fb9-8224-aef0f6f20417",
   "metadata": {
    "tags": []
   },
   "outputs": [],
   "source": [
    "# Creating a US stock database named \"usstock-free-1d\"\n",
    "# with a bar size of \"1 day\" and setting it as a free database (free=True)\n",
    "\n",
    "from quantrocket.history import create_usstock_db\n",
    "create_usstock_db(\"usstock-free-1d\", bar_size=\"1 day\", free=True)"
   ]
  },
  {
   "cell_type": "code",
   "execution_count": 4,
   "id": "2fdf16c1-fd14-484f-84b8-5a55919e4aee",
   "metadata": {
    "tags": []
   },
   "outputs": [
    {
     "data": {
      "text/plain": [
       "{'status': 'the historical data will be collected asynchronously'}"
      ]
     },
     "execution_count": 4,
     "metadata": {},
     "output_type": "execute_result"
    }
   ],
   "source": [
    "# Collecting historical data for the database named \"usstock-free-1d\"\n",
    "\n",
    "from quantrocket.history import collect_history\n",
    "collect_history(\"usstock-free-1d\")"
   ]
  },
  {
   "cell_type": "code",
   "execution_count": 16,
   "id": "cdfa0d9f-48dd-4078-89da-8b48572c36f6",
   "metadata": {
    "tags": []
   },
   "outputs": [
    {
     "data": {
      "text/html": [
       "<div>\n",
       "<style scoped>\n",
       "    .dataframe tbody tr th:only-of-type {\n",
       "        vertical-align: middle;\n",
       "    }\n",
       "\n",
       "    .dataframe tbody tr th {\n",
       "        vertical-align: top;\n",
       "    }\n",
       "\n",
       "    .dataframe thead th {\n",
       "        text-align: right;\n",
       "    }\n",
       "</style>\n",
       "<table border=\"1\" class=\"dataframe\">\n",
       "  <thead>\n",
       "    <tr style=\"text-align: right;\">\n",
       "      <th></th>\n",
       "      <th>Symbol</th>\n",
       "      <th>Exchange</th>\n",
       "      <th>Country</th>\n",
       "      <th>Currency</th>\n",
       "      <th>SecType</th>\n",
       "      <th>Etf</th>\n",
       "      <th>Timezone</th>\n",
       "      <th>Name</th>\n",
       "      <th>PriceMagnifier</th>\n",
       "      <th>Multiplier</th>\n",
       "      <th>Delisted</th>\n",
       "      <th>DateDelisted</th>\n",
       "      <th>LastTradeDate</th>\n",
       "      <th>RolloverDate</th>\n",
       "    </tr>\n",
       "    <tr>\n",
       "      <th>Sid</th>\n",
       "      <th></th>\n",
       "      <th></th>\n",
       "      <th></th>\n",
       "      <th></th>\n",
       "      <th></th>\n",
       "      <th></th>\n",
       "      <th></th>\n",
       "      <th></th>\n",
       "      <th></th>\n",
       "      <th></th>\n",
       "      <th></th>\n",
       "      <th></th>\n",
       "      <th></th>\n",
       "      <th></th>\n",
       "    </tr>\n",
       "  </thead>\n",
       "  <tbody>\n",
       "    <tr>\n",
       "      <th>FIBBG000B9XRY4</th>\n",
       "      <td>AAPL</td>\n",
       "      <td>XNAS</td>\n",
       "      <td>US</td>\n",
       "      <td>USD</td>\n",
       "      <td>STK</td>\n",
       "      <td>False</td>\n",
       "      <td>America/New_York</td>\n",
       "      <td>APPLE INC</td>\n",
       "      <td>1</td>\n",
       "      <td>1</td>\n",
       "      <td>False</td>\n",
       "      <td>NaT</td>\n",
       "      <td>NaT</td>\n",
       "      <td>NaT</td>\n",
       "    </tr>\n",
       "    <tr>\n",
       "      <th>FIBBG000BFWKC0</th>\n",
       "      <td>MON</td>\n",
       "      <td>XNYS</td>\n",
       "      <td>US</td>\n",
       "      <td>USD</td>\n",
       "      <td>STK</td>\n",
       "      <td>False</td>\n",
       "      <td>America/New_York</td>\n",
       "      <td>MONSANTO CO</td>\n",
       "      <td>1</td>\n",
       "      <td>1</td>\n",
       "      <td>True</td>\n",
       "      <td>2018-06-06</td>\n",
       "      <td>NaT</td>\n",
       "      <td>NaT</td>\n",
       "    </tr>\n",
       "    <tr>\n",
       "      <th>FIBBG000BKZB36</th>\n",
       "      <td>HD</td>\n",
       "      <td>XNYS</td>\n",
       "      <td>US</td>\n",
       "      <td>USD</td>\n",
       "      <td>STK</td>\n",
       "      <td>False</td>\n",
       "      <td>America/New_York</td>\n",
       "      <td>HOME DEPOT INC</td>\n",
       "      <td>1</td>\n",
       "      <td>1</td>\n",
       "      <td>False</td>\n",
       "      <td>NaT</td>\n",
       "      <td>NaT</td>\n",
       "      <td>NaT</td>\n",
       "    </tr>\n",
       "    <tr>\n",
       "      <th>FIBBG000BMHYD1</th>\n",
       "      <td>JNJ</td>\n",
       "      <td>XNYS</td>\n",
       "      <td>US</td>\n",
       "      <td>USD</td>\n",
       "      <td>STK</td>\n",
       "      <td>False</td>\n",
       "      <td>America/New_York</td>\n",
       "      <td>JOHNSON &amp; JOHNSON</td>\n",
       "      <td>1</td>\n",
       "      <td>1</td>\n",
       "      <td>False</td>\n",
       "      <td>NaT</td>\n",
       "      <td>NaT</td>\n",
       "      <td>NaT</td>\n",
       "    </tr>\n",
       "    <tr>\n",
       "      <th>FIBBG000BPH459</th>\n",
       "      <td>MSFT</td>\n",
       "      <td>XNAS</td>\n",
       "      <td>US</td>\n",
       "      <td>USD</td>\n",
       "      <td>STK</td>\n",
       "      <td>False</td>\n",
       "      <td>America/New_York</td>\n",
       "      <td>MICROSOFT CORP</td>\n",
       "      <td>1</td>\n",
       "      <td>1</td>\n",
       "      <td>False</td>\n",
       "      <td>NaT</td>\n",
       "      <td>NaT</td>\n",
       "      <td>NaT</td>\n",
       "    </tr>\n",
       "    <tr>\n",
       "      <th>FIBBG000CK38G3</th>\n",
       "      <td>KKD</td>\n",
       "      <td>XNYS</td>\n",
       "      <td>US</td>\n",
       "      <td>USD</td>\n",
       "      <td>STK</td>\n",
       "      <td>False</td>\n",
       "      <td>America/New_York</td>\n",
       "      <td>KRISPY KREME DOUGHNUTS INC</td>\n",
       "      <td>1</td>\n",
       "      <td>1</td>\n",
       "      <td>True</td>\n",
       "      <td>2016-07-27</td>\n",
       "      <td>NaT</td>\n",
       "      <td>NaT</td>\n",
       "    </tr>\n",
       "    <tr>\n",
       "      <th>FIBBG000GZQ728</th>\n",
       "      <td>XOM</td>\n",
       "      <td>XNYS</td>\n",
       "      <td>US</td>\n",
       "      <td>USD</td>\n",
       "      <td>STK</td>\n",
       "      <td>False</td>\n",
       "      <td>America/New_York</td>\n",
       "      <td>EXXON MOBIL CORP</td>\n",
       "      <td>1</td>\n",
       "      <td>1</td>\n",
       "      <td>False</td>\n",
       "      <td>NaT</td>\n",
       "      <td>NaT</td>\n",
       "      <td>NaT</td>\n",
       "    </tr>\n",
       "    <tr>\n",
       "      <th>FIBBG00B3T3HD3</th>\n",
       "      <td>AA</td>\n",
       "      <td>XNYS</td>\n",
       "      <td>US</td>\n",
       "      <td>USD</td>\n",
       "      <td>STK</td>\n",
       "      <td>False</td>\n",
       "      <td>America/New_York</td>\n",
       "      <td>ALCOA CORP</td>\n",
       "      <td>1</td>\n",
       "      <td>1</td>\n",
       "      <td>False</td>\n",
       "      <td>NaT</td>\n",
       "      <td>NaT</td>\n",
       "      <td>NaT</td>\n",
       "    </tr>\n",
       "  </tbody>\n",
       "</table>\n",
       "</div>"
      ],
      "text/plain": [
       "               Symbol Exchange Country Currency SecType    Etf  \\\n",
       "Sid                                                              \n",
       "FIBBG000B9XRY4   AAPL     XNAS      US      USD     STK  False   \n",
       "FIBBG000BFWKC0    MON     XNYS      US      USD     STK  False   \n",
       "FIBBG000BKZB36     HD     XNYS      US      USD     STK  False   \n",
       "FIBBG000BMHYD1    JNJ     XNYS      US      USD     STK  False   \n",
       "FIBBG000BPH459   MSFT     XNAS      US      USD     STK  False   \n",
       "FIBBG000CK38G3    KKD     XNYS      US      USD     STK  False   \n",
       "FIBBG000GZQ728    XOM     XNYS      US      USD     STK  False   \n",
       "FIBBG00B3T3HD3     AA     XNYS      US      USD     STK  False   \n",
       "\n",
       "                        Timezone                        Name  PriceMagnifier  \\\n",
       "Sid                                                                            \n",
       "FIBBG000B9XRY4  America/New_York                   APPLE INC               1   \n",
       "FIBBG000BFWKC0  America/New_York                 MONSANTO CO               1   \n",
       "FIBBG000BKZB36  America/New_York              HOME DEPOT INC               1   \n",
       "FIBBG000BMHYD1  America/New_York           JOHNSON & JOHNSON               1   \n",
       "FIBBG000BPH459  America/New_York              MICROSOFT CORP               1   \n",
       "FIBBG000CK38G3  America/New_York  KRISPY KREME DOUGHNUTS INC               1   \n",
       "FIBBG000GZQ728  America/New_York            EXXON MOBIL CORP               1   \n",
       "FIBBG00B3T3HD3  America/New_York                  ALCOA CORP               1   \n",
       "\n",
       "                Multiplier  Delisted DateDelisted LastTradeDate RolloverDate  \n",
       "Sid                                                                           \n",
       "FIBBG000B9XRY4           1     False          NaT           NaT          NaT  \n",
       "FIBBG000BFWKC0           1      True   2018-06-06           NaT          NaT  \n",
       "FIBBG000BKZB36           1     False          NaT           NaT          NaT  \n",
       "FIBBG000BMHYD1           1     False          NaT           NaT          NaT  \n",
       "FIBBG000BPH459           1     False          NaT           NaT          NaT  \n",
       "FIBBG000CK38G3           1      True   2016-07-27           NaT          NaT  \n",
       "FIBBG000GZQ728           1     False          NaT           NaT          NaT  \n",
       "FIBBG00B3T3HD3           1     False          NaT           NaT          NaT  "
      ]
     },
     "execution_count": 16,
     "metadata": {},
     "output_type": "execute_result"
    }
   ],
   "source": [
    "from quantrocket.master import get_securities\n",
    "securities = get_securities(vendors=\"usstock\", sec_types=\"STK\")\n",
    "securities"
   ]
  },
  {
   "cell_type": "code",
   "execution_count": null,
   "id": "4b52645c-1e17-4c97-b46a-9edb3f3d482c",
   "metadata": {
    "tags": []
   },
   "outputs": [],
   "source": [
    "# Creating a universe named \"usstock-free\" using the provided securities DataFrame\n",
    "# The universe is based on the unique identifiers (sids) of the securities in the DataFrame\n",
    "\n",
    "from quantrocket.master import create_universe\n",
    "create_universe(\"usstock-free\", sids=securities.index.tolist())"
   ]
  },
  {
   "cell_type": "code",
   "execution_count": 12,
   "id": "299abf20-8247-412b-ad05-7e803e12c696",
   "metadata": {
    "tags": []
   },
   "outputs": [
    {
     "data": {
      "text/html": [
       "<div>\n",
       "<style scoped>\n",
       "    .dataframe tbody tr th:only-of-type {\n",
       "        vertical-align: middle;\n",
       "    }\n",
       "\n",
       "    .dataframe tbody tr th {\n",
       "        vertical-align: top;\n",
       "    }\n",
       "\n",
       "    .dataframe thead th {\n",
       "        text-align: right;\n",
       "    }\n",
       "</style>\n",
       "<table border=\"1\" class=\"dataframe\">\n",
       "  <thead>\n",
       "    <tr style=\"text-align: right;\">\n",
       "      <th></th>\n",
       "      <th>Symbol</th>\n",
       "      <th>Exchange</th>\n",
       "      <th>Name</th>\n",
       "      <th>Delisted</th>\n",
       "    </tr>\n",
       "    <tr>\n",
       "      <th>Sid</th>\n",
       "      <th></th>\n",
       "      <th></th>\n",
       "      <th></th>\n",
       "      <th></th>\n",
       "    </tr>\n",
       "  </thead>\n",
       "  <tbody>\n",
       "    <tr>\n",
       "      <th>FIBBG000B9XRY4</th>\n",
       "      <td>AAPL</td>\n",
       "      <td>XNAS</td>\n",
       "      <td>APPLE INC</td>\n",
       "      <td>False</td>\n",
       "    </tr>\n",
       "    <tr>\n",
       "      <th>FIBBG000BKZB36</th>\n",
       "      <td>HD</td>\n",
       "      <td>XNYS</td>\n",
       "      <td>HOME DEPOT INC</td>\n",
       "      <td>False</td>\n",
       "    </tr>\n",
       "    <tr>\n",
       "      <th>FIBBG000BMHYD1</th>\n",
       "      <td>JNJ</td>\n",
       "      <td>XNYS</td>\n",
       "      <td>JOHNSON &amp; JOHNSON</td>\n",
       "      <td>False</td>\n",
       "    </tr>\n",
       "    <tr>\n",
       "      <th>FIBBG000BPH459</th>\n",
       "      <td>MSFT</td>\n",
       "      <td>XNAS</td>\n",
       "      <td>MICROSOFT CORP</td>\n",
       "      <td>False</td>\n",
       "    </tr>\n",
       "    <tr>\n",
       "      <th>FIBBG000GZQ728</th>\n",
       "      <td>XOM</td>\n",
       "      <td>XNYS</td>\n",
       "      <td>EXXON MOBIL CORP</td>\n",
       "      <td>False</td>\n",
       "    </tr>\n",
       "    <tr>\n",
       "      <th>FIBBG00B3T3HD3</th>\n",
       "      <td>AA</td>\n",
       "      <td>XNYS</td>\n",
       "      <td>ALCOA CORP</td>\n",
       "      <td>False</td>\n",
       "    </tr>\n",
       "  </tbody>\n",
       "</table>\n",
       "</div>"
      ],
      "text/plain": [
       "               Symbol Exchange               Name  Delisted\n",
       "Sid                                                        \n",
       "FIBBG000B9XRY4   AAPL     XNAS          APPLE INC     False\n",
       "FIBBG000BKZB36     HD     XNYS     HOME DEPOT INC     False\n",
       "FIBBG000BMHYD1    JNJ     XNYS  JOHNSON & JOHNSON     False\n",
       "FIBBG000BPH459   MSFT     XNAS     MICROSOFT CORP     False\n",
       "FIBBG000GZQ728    XOM     XNYS   EXXON MOBIL CORP     False\n",
       "FIBBG00B3T3HD3     AA     XNYS         ALCOA CORP     False"
      ]
     },
     "execution_count": 12,
     "metadata": {},
     "output_type": "execute_result"
    }
   ],
   "source": [
    "filtered_securities = securities[securities.Delisted==False]\n",
    "filtered_securities = filtered_securities[[\"Symbol\", \"Exchange\", \"Name\", \"Delisted\"]]\n",
    "filtered_securities"
   ]
  },
  {
   "cell_type": "code",
   "execution_count": 13,
   "id": "7593f330-de13-402c-8c91-fda555e033f8",
   "metadata": {
    "tags": []
   },
   "outputs": [
    {
     "data": {
      "text/plain": [
       "{'code': 'usstock-free-active',\n",
       " 'provided': 6,\n",
       " 'inserted': 6,\n",
       " 'total_after_insert': 6}"
      ]
     },
     "execution_count": 13,
     "metadata": {},
     "output_type": "execute_result"
    }
   ],
   "source": [
    "create_universe(\"usstock-free-active\", sids=filtered_securities.index.tolist())"
   ]
  },
  {
   "cell_type": "markdown",
   "id": "79fa984c-2740-4149-919c-fbe00035fe71",
   "metadata": {
    "tags": []
   },
   "source": [
    "# Collecting AAPL Stocks 2023"
   ]
  },
  {
   "cell_type": "code",
   "execution_count": null,
   "id": "620866ed-ade3-4b92-b0d5-c3da14ab6935",
   "metadata": {
    "tags": []
   },
   "outputs": [],
   "source": [
    "from quantrocket.history import create_usstock_db, collect_history\n",
    "from quantrocket.master import get_securities\n",
    "from quantrocket.history import download_history_file\n",
    "import pandas as pd\n",
    "\n",
    "# Step 1: Create a US stock database named \"aapl-2023\" with daily bars and mark it as a free database\n",
    "create_usstock_db(\"aapl\", bar_size=\"1 day\", free=True)"
   ]
  },
  {
   "cell_type": "code",
   "execution_count": 22,
   "id": "9821834d-f37f-4c66-8bb6-5935847be37c",
   "metadata": {
    "tags": []
   },
   "outputs": [
    {
     "data": {
      "text/plain": [
       "{'status': 'the historical data will be collected asynchronously'}"
      ]
     },
     "execution_count": 22,
     "metadata": {},
     "output_type": "execute_result"
    }
   ],
   "source": [
    "# Step 2: Collect historical data for the created database\n",
    "collect_history(\"aapl\")"
   ]
  },
  {
   "cell_type": "code",
   "execution_count": 27,
   "id": "17455b0e-f568-4f64-9b2c-35ff17706a4a",
   "metadata": {
    "tags": []
   },
   "outputs": [],
   "source": [
    "# Step 3: Obtain the unique identifier (sid) for Apple stock (AAPL)\n",
    "securities = get_securities(vendors=\"usstock\", sec_types=\"STK\")\n",
    "aapl_sid = securities.loc[securities[\"Symbol\"] == \"AAPL\"].index[0]"
   ]
  },
  {
   "cell_type": "code",
   "execution_count": 257,
   "id": "2477a667-000e-48af-b072-5afd3d5aed50",
   "metadata": {
    "tags": []
   },
   "outputs": [],
   "source": [
    "from quantrocket import get_prices\n",
    "# Step 4: Retrieve the historical price data for Apple stock (AAPL) as a DataFrame\n",
    "price_data = get_prices(\"aapl\", sids=[aapl_sid], start_date=\"2023-01-01\", end_date=\"2023-12-31\", fields=[\"Close\"])\n",
    "\n",
    "# Step 5: Save the DataFrame to a CSV file\n",
    "csv_file_path = \"aapl_history.csv\"\n",
    "price_data.to_csv(csv_file_path)"
   ]
  },
  {
   "cell_type": "code",
   "execution_count": 241,
   "id": "c4082d74-1979-4756-8f80-2ab5639a6948",
   "metadata": {
    "tags": []
   },
   "outputs": [
    {
     "name": "stdout",
     "output_type": "stream",
     "text": [
      "Sid               FIBBG000B9XRY4\n",
      "Field Date                      \n",
      "Close 2023-01-03        124.2163\n",
      "      2023-01-04        125.4975\n",
      "      2023-01-05        124.1666\n",
      "      2023-01-06        128.7352\n",
      "      2023-01-09        129.2616\n",
      "...                          ...\n",
      "      2023-12-22        193.3533\n",
      "      2023-12-26        192.8040\n",
      "      2023-12-27        192.9038\n",
      "      2023-12-28        193.3333\n",
      "      2023-12-29        192.2846\n",
      "\n",
      "[250 rows x 1 columns]\n"
     ]
    }
   ],
   "source": [
    "# Display the first few rows of the resulting DataFrame\n",
    "print(price_data)"
   ]
  },
  {
   "cell_type": "markdown",
   "id": "68452d7e-45ec-457f-88f6-f96777c1a195",
   "metadata": {
    "tags": []
   },
   "source": [
    "# Collecting AAPL Stocks 2022"
   ]
  },
  {
   "cell_type": "code",
   "execution_count": 213,
   "id": "cc7699d6-2c89-4619-948b-e55cfefa2d90",
   "metadata": {
    "tags": []
   },
   "outputs": [
    {
     "data": {
      "text/plain": [
       "{'status': 'successfully created quantrocket.v2.history.aapl22.sqlite'}"
      ]
     },
     "execution_count": 213,
     "metadata": {},
     "output_type": "execute_result"
    }
   ],
   "source": [
    "from quantrocket.history import create_usstock_db, collect_history\n",
    "from quantrocket.master import get_securities\n",
    "from quantrocket.history import download_history_file\n",
    "import pandas as pd\n",
    "\n",
    "# Step 1: Create a US stock database named \"aapl-2023\" with daily bars and mark it as a free database\n",
    "create_usstock_db(\"aapl22\", bar_size=\"1 day\", free=True)"
   ]
  },
  {
   "cell_type": "code",
   "execution_count": 214,
   "id": "f1edc29e-369c-49ea-abc3-0da196f70f8c",
   "metadata": {
    "tags": []
   },
   "outputs": [
    {
     "data": {
      "text/plain": [
       "{'status': 'the historical data will be collected asynchronously'}"
      ]
     },
     "execution_count": 214,
     "metadata": {},
     "output_type": "execute_result"
    }
   ],
   "source": [
    "# Step 2: Collect historical data for the created database\n",
    "collect_history(\"aapl22\")"
   ]
  },
  {
   "cell_type": "code",
   "execution_count": 216,
   "id": "b9196b47-08a1-4e60-b5d1-90222605c5e4",
   "metadata": {
    "tags": []
   },
   "outputs": [],
   "source": [
    "# Step 3: Obtain the unique identifier (sid) for Apple stock (AAPL)\n",
    "securities = get_securities(vendors=\"usstock\", sec_types=\"STK\")\n",
    "aapl_sid = securities.loc[securities[\"Symbol\"] == \"AAPL\"].index[0]"
   ]
  },
  {
   "cell_type": "code",
   "execution_count": 242,
   "id": "cc9681e6-51f2-47c2-bc58-48c97f70b552",
   "metadata": {
    "tags": []
   },
   "outputs": [],
   "source": [
    "from quantrocket import get_prices\n",
    "# Step 4: Retrieve the historical price data for Apple stock (AAPL) as a DataFrame\n",
    "price_data22 = get_prices(\"aapl22\", sids=[aapl_sid], start_date=\"2022-01-01\", end_date=\"2022-12-31\", fields=[\"Close\"])\n",
    "\n",
    "# Step 5: Save the DataFrame to a CSV file\n",
    "csv_file_path = \"aapl_history22.csv\"\n",
    "price_data22.to_csv(csv_file_path)"
   ]
  },
  {
   "cell_type": "code",
   "execution_count": 243,
   "id": "3e559c04-dab7-455b-802a-18c6a8eab6ff",
   "metadata": {
    "tags": []
   },
   "outputs": [
    {
     "name": "stdout",
     "output_type": "stream",
     "text": [
      "Sid               FIBBG000B9XRY4\n",
      "Field Date                      \n",
      "Close 2022-01-03        179.4980\n",
      "      2022-01-04        177.2199\n",
      "      2022-01-05        172.5058\n",
      "      2022-01-06        169.6261\n",
      "      2022-01-07        169.7938\n",
      "...                          ...\n",
      "      2022-12-23        130.9600\n",
      "      2022-12-27        129.1424\n",
      "      2022-12-28        125.1797\n",
      "      2022-12-29        128.7253\n",
      "      2022-12-30        129.0431\n",
      "\n",
      "[251 rows x 1 columns]\n"
     ]
    }
   ],
   "source": [
    "# Display the first few rows of the resulting DataFrame\n",
    "print(price_data22)"
   ]
  },
  {
   "cell_type": "markdown",
   "id": "d8872bd2-a229-4a97-954e-632afdc6d512",
   "metadata": {
    "tags": []
   },
   "source": [
    "# ✅ Initial Tasks Completed :"
   ]
  },
  {
   "cell_type": "markdown",
   "id": "c417a1cd-cea0-4360-a81f-dce549966cc8",
   "metadata": {
    "tags": []
   },
   "source": [
    "##### 1. Install Quantrocket. Understand how to use the basic capabilities of the platform.\n"
   ]
  },
  {
   "cell_type": "markdown",
   "id": "6dd94bef-bb32-41bf-864e-5079259014b7",
   "metadata": {},
   "source": [
    "##### 2. Pulled price data (daily close prices only) for Apple stock for the year 2023"
   ]
  },
  {
   "cell_type": "markdown",
   "id": "aab7fae0-a195-4099-b441-7eb77113764e",
   "metadata": {
    "tags": []
   },
   "source": [
    "# Daily Stock Trading Prompt"
   ]
  },
  {
   "cell_type": "code",
   "execution_count": 258,
   "id": "9cf9df0e-41d6-4b46-a7a6-30ba0837d3f3",
   "metadata": {
    "tags": []
   },
   "outputs": [
    {
     "data": {
      "text/plain": [
       "0      124.2163\n",
       "1      125.4975\n",
       "2      124.1666\n",
       "3      128.7352\n",
       "4      129.2616\n",
       "         ...   \n",
       "245    193.3533\n",
       "246    192.8040\n",
       "247    192.9038\n",
       "248    193.3333\n",
       "249    192.2846\n",
       "Name: Close, Length: 250, dtype: float64"
      ]
     },
     "execution_count": 258,
     "metadata": {},
     "output_type": "execute_result"
    }
   ],
   "source": [
    "import pandas as pd\n",
    "\n",
    "prices = price_data['FIBBG000B9XRY4']['Close'].to_list()\n",
    "prices_df = pd.DataFrame({'Close': prices})\n",
    "prices_df['Close']"
   ]
  },
  {
   "cell_type": "markdown",
   "id": "31d2a0e2-0e45-4693-85aa-a0581484cd1e",
   "metadata": {
    "tags": []
   },
   "source": [
    "#### Original Value"
   ]
  },
  {
   "cell_type": "code",
   "execution_count": 325,
   "id": "638f6aef-86bd-46fc-b666-585b2f50e432",
   "metadata": {
    "tags": []
   },
   "outputs": [
    {
     "name": "stdout",
     "output_type": "stream",
     "text": [
      "0      0.000000\n",
      "1      0.010314\n",
      "2     -0.010605\n",
      "3      0.036794\n",
      "4      0.004089\n",
      "         ...   \n",
      "245   -0.005547\n",
      "246   -0.002841\n",
      "247    0.000518\n",
      "248    0.002226\n",
      "249   -0.005424\n",
      "Name: Close, Length: 250, dtype: float64 0      0\n",
      "1      1\n",
      "2     -1\n",
      "3      1\n",
      "4      1\n",
      "      ..\n",
      "245   -1\n",
      "246   -1\n",
      "247    0\n",
      "248    1\n",
      "249   -1\n",
      "Name: Close, Length: 250, dtype: category\n",
      "Categories (3, int64): [-1 < 0 < 1]\n",
      "Portfolio Value (V(N)): 5\n",
      "Optimal Buy Indices: [7, 11, 71, 78, 81, 86, 92, 95, 102, 115, 132, 152, 197, 202, 221, 226, 239, 244, 247]\n",
      "\n",
      "Transition Distribution:\n",
      "Close        -1         0         1\n",
      "Close                              \n",
      "-1     0.387755  0.112245  0.500000\n",
      "0      0.350000  0.000000  0.650000\n",
      "1      0.412214  0.061069  0.526718\n"
     ]
    }
   ],
   "source": [
    "def calculate_returns_and_states(close_prices):\n",
    "    returns = close_prices.pct_change().fillna(0)\n",
    "    states = pd.cut(returns, bins=[-float('inf'), -0.001, 0.001, float('inf')], labels=[-1, 0, 1])\n",
    "    print(returns, states)\n",
    "    return returns, states\n",
    "\n",
    "def calculate_transition_distribution(states):\n",
    "    transition_matrix = pd.crosstab(states.shift(), states, normalize='index')\n",
    "    return transition_matrix\n",
    "\n",
    "def make_decisions_and_update_portfolio(returns, states):\n",
    "    portfolio_value = 0\n",
    "    buy_indices = []\n",
    "\n",
    "    for i in range(2, len(states)):\n",
    "        if states[i] == 1 and states[i - 1] == 0:\n",
    "            portfolio_value += 1\n",
    "            buy_indices.append(i-1)\n",
    "        elif states[i] == -1 and states[i - 1] == 0:\n",
    "            portfolio_value -= 1\n",
    "            buy_indices.append(i-1)\n",
    "\n",
    "    return portfolio_value, buy_indices\n",
    "\n",
    "returns, states = calculate_returns_and_states(prices_df['Close'])\n",
    "transition_matrix = calculate_transition_distribution(states)\n",
    "portfolio_value, buy_indices = make_decisions_and_update_portfolio(returns, states)\n",
    "\n",
    "# Display the results\n",
    "print(f\"Portfolio Value (V(N)): {portfolio_value}\")\n",
    "print(\"Optimal Buy Indices:\", buy_indices)\n",
    "print(\"\\nTransition Distribution:\")\n",
    "print(transition_matrix)"
   ]
  },
  {
   "cell_type": "markdown",
   "id": "00101459-ba19-46b5-bd02-870ff8e16ca0",
   "metadata": {
    "tags": []
   },
   "source": [
    "#### Stochastic Model"
   ]
  },
  {
   "cell_type": "code",
   "execution_count": 274,
   "id": "6aedb127-1919-424c-96bd-ffbd9215afa0",
   "metadata": {
    "tags": []
   },
   "outputs": [
    {
     "name": "stdout",
     "output_type": "stream",
     "text": [
      "Optimized Portfolio Value for the Next 250 Days: 69\n",
      "Optimal Buy Indices: [-1, 0, 1, 2, 3, 4, 5, 6, 7, 8, 9, 10, 11, 12, 13, 14, 15, 16, 17, 18, 19, 20, 21, 22, 23, 24, 25, 26, 27, 28, 29, 30, 31, 32, 33, 34, 35, 36, 37, 38, 39, 40, 41, 42, 43, 44, 45, 46, 47, 48, 49, 50, 51, 52, 53, 54, 55, 56, 57, 58, 59, 60, 61, 62, 63, 64, 65, 66, 67]\n",
      "\n",
      "Transition Distribution:\n",
      "Close        -1         0         1\n",
      "Close                              \n",
      "-1     0.424528  0.018868  0.556604\n",
      "0      0.000000  0.000000  1.000000\n",
      "1      0.442857  0.000000  0.557143\n"
     ]
    }
   ],
   "source": [
    "def optimize_portfolio_with_tpm(transition_matrix, N):\n",
    "    portfolio_value = 0\n",
    "    buy_indices = []\n",
    "\n",
    "    current_state = 0  # Assume starting from a Flat state\n",
    "    for i in range(N):\n",
    "        \n",
    "        # Get the probabilities of transitioning to the Bull and Bear states from the current state\n",
    "        probabilities = transition_matrix.loc[current_state].to_dict()\n",
    "\n",
    "        # Make decision based on the probabilities\n",
    "        if probabilities[1] > probabilities[-1]:\n",
    "            portfolio_value += 1\n",
    "            buy_indices.append(i-1)\n",
    "            current_state = 1  # Move to Bull state\n",
    "        else:\n",
    "            #portfolio_value -= 1\n",
    "            #buy_indices.append(i-1)\n",
    "            current_state = -1  # Move to Bear state\n",
    "        \n",
    "        \n",
    "        # Multiply the transition matrix with itself to simulate multiple days\n",
    "        transition_matrix = transition_matrix.dot(transition_matrix)\n",
    "\n",
    "    return portfolio_value, buy_indices\n",
    "\n",
    "# Set the number of days (N) for portfolio optimization\n",
    "N = 250\n",
    "\n",
    "# Optimize the portfolio value for the next N days using only the TPM\n",
    "portfolio_value, buy_indices = optimize_portfolio_with_tpm(transition_matrix, N)\n",
    "\n",
    "print(f\"Optimized Portfolio Value for the Next {N} Days: {portfolio_value}\")\n",
    "print(\"Optimal Buy Indices:\", buy_indices)\n",
    "print(\"\\nTransition Distribution:\")\n",
    "print(transition_matrix)"
   ]
  },
  {
   "cell_type": "markdown",
   "id": "df43e8de-1cfd-40e2-8c0c-a5f839a186d1",
   "metadata": {
    "tags": []
   },
   "source": [
    "#### Dynamic Programming"
   ]
  },
  {
   "cell_type": "code",
   "execution_count": 163,
   "id": "e7fe6722-5c95-452f-8b82-ea8d74f12f24",
   "metadata": {
    "tags": []
   },
   "outputs": [
    {
     "name": "stdout",
     "output_type": "stream",
     "text": [
      "Optimal Buy Indices using Dynamic Programming: []\n"
     ]
    }
   ],
   "source": [
    "import numpy as np\n",
    "\n",
    "def calculate_value_function(transition_distribution, num_days):\n",
    "    value_function = np.zeros(num_days)\n",
    "    value_function[-1] = 1\n",
    "    \n",
    "    for t in range(num_days - 2, -1, -1):\n",
    "        value_function[t] = np.max(transition_distribution[:, 0] * value_function[t + 1] + \n",
    "                                     transition_distribution[:, 1] * (value_function[t + 1] - 1) + \n",
    "                                     transition_distribution[:, 2] * value_function[t + 1])\n",
    "    \n",
    "    return value_function\n",
    "\n",
    "def find_optimal_buy_indices(value_function, num_days):\n",
    "    optimal_buy_indices = []\n",
    "    current_state = 0\n",
    "    \n",
    "    for t in range(num_days - 1):\n",
    "        next_state = classify_state(value_function[t + 1] - value_function[t])\n",
    "        \n",
    "        if current_state == 0 and next_state == 1:\n",
    "            optimal_buy_indices.append(t + 1)\n",
    "        \n",
    "        current_state = next_state\n",
    "    \n",
    "    return optimal_buy_indices\n",
    "\n",
    "# Assuming 'transition_matrix' is the calculated transitional matrix\n",
    "# You may need to adjust the classification function 'classify_state'\n",
    "transition_distribution = transition_matrix.to_numpy()\n",
    "num_days = len(transition_distribution)\n",
    "\n",
    "value_function = calculate_value_function(transition_distribution, num_days)\n",
    "optimal_buy_indices = find_optimal_buy_indices(value_function, num_days)\n",
    "\n",
    "print(\"Optimal Buy Indices using Dynamic Programming:\", optimal_buy_indices)"
   ]
  },
  {
   "cell_type": "markdown",
   "id": "5a182282-5649-40cc-b797-6e6547afce30",
   "metadata": {
    "tags": []
   },
   "source": [
    "#### Arima"
   ]
  },
  {
   "cell_type": "code",
   "execution_count": 234,
   "id": "8e02408a-daad-486f-90b7-7cabe25e01a9",
   "metadata": {
    "tags": []
   },
   "outputs": [
    {
     "name": "stdout",
     "output_type": "stream",
     "text": [
      "250    191.972705\n",
      "251    191.995936\n",
      "252    191.869921\n",
      "253    191.722394\n",
      "254    191.749341\n",
      "255    191.472064\n",
      "256    191.605182\n",
      "257    191.248442\n",
      "258    191.436097\n",
      "259    191.050881\n",
      "Name: predicted_mean, dtype: float64\n"
     ]
    },
    {
     "name": "stderr",
     "output_type": "stream",
     "text": [
      "/opt/conda/lib/python3.9/site-packages/statsmodels/base/model.py:604: ConvergenceWarning: Maximum Likelihood optimization failed to converge. Check mle_retvals\n",
      "  warnings.warn(\"Maximum Likelihood optimization failed to \"\n"
     ]
    }
   ],
   "source": [
    "import pandas as pd\n",
    "from statsmodels.tsa.arima.model import ARIMA\n",
    "\n",
    "def fit_arima_model(data, order):\n",
    "  #Fits an ARIMA model to the closing price data.\n",
    "  model = ARIMA(data[\"Close\"], order=order)\n",
    "  model_fit = model.fit()\n",
    "  return model_fit\n",
    "\n",
    "def forecast_future_prices(model, num_steps):\n",
    "  #Forecasts future closing prices based on the ARIMA model.\n",
    "  forecast_values = model.forecast(steps=num_steps)\n",
    "  return forecast_values\n",
    "\n",
    "# Example usage (replace with appropriate order and number of steps)\n",
    "order = (3, 0, 2)  # Example ARIMA order (adjust based on data analysis)\n",
    "num_steps = 10  # Number of future days to forecast\n",
    "\n",
    "model = fit_arima_model(prices_df.copy(), order)\n",
    "forecasted_prices = forecast_future_prices(model, num_steps)\n",
    "print(forecasted_prices)"
   ]
  },
  {
   "cell_type": "markdown",
   "id": "321bbe2c-852b-4542-a99f-70427a778856",
   "metadata": {
    "tags": []
   },
   "source": [
    "#### Moving Average"
   ]
  },
  {
   "cell_type": "code",
   "execution_count": 283,
   "id": "58272ccb-4b9d-4972-89f9-a2c1df12d80a",
   "metadata": {
    "tags": []
   },
   "outputs": [
    {
     "name": "stdout",
     "output_type": "stream",
     "text": [
      "0      124.2163\n",
      "1      125.4975\n",
      "2      124.1666\n",
      "3      128.7352\n",
      "4      129.2616\n",
      "         ...   \n",
      "245    193.3533\n",
      "246    192.8040\n",
      "247    192.9038\n",
      "248    193.3333\n",
      "249    192.2846\n",
      "Name: Close, Length: 250, dtype: float64\n"
     ]
    },
    {
     "data": {
      "image/png": "[encoded data removed]",
      "text/plain": [
       "<Figure size 864x432 with 1 Axes>"
      ]
     },
     "metadata": {},
     "output_type": "display_data"
    },
    {
     "name": "stdout",
     "output_type": "stream",
     "text": [
      "0      133.305827\n",
      "1      134.471153\n",
      "2      135.855640\n",
      "3      136.741553\n",
      "4      137.677787\n",
      "          ...    \n",
      "245           NaN\n",
      "246           NaN\n",
      "247           NaN\n",
      "248           NaN\n",
      "249           NaN\n",
      "Name: Close, Length: 250, dtype: float64\n",
      "0      0.000000\n",
      "1      0.008742\n",
      "2      0.010296\n",
      "3      0.006521\n",
      "4      0.006847\n",
      "         ...   \n",
      "245    0.000000\n",
      "246    0.000000\n",
      "247    0.000000\n",
      "248    0.000000\n",
      "249    0.000000\n",
      "Name: Close, Length: 250, dtype: float64 0      0\n",
      "1      1\n",
      "2      1\n",
      "3      1\n",
      "4      1\n",
      "      ..\n",
      "245    0\n",
      "246    0\n",
      "247    0\n",
      "248    0\n",
      "249    0\n",
      "Name: Close, Length: 250, dtype: category\n",
      "Categories (3, int64): [-1 < 0 < 1]\n",
      "Portfolio Value (V(N)): 2\n",
      "Optimal Buy Indices: [69, 232]\n"
     ]
    }
   ],
   "source": [
    "import pandas as pd\n",
    "import numpy as np\n",
    "import matplotlib.pyplot as plt\n",
    "\n",
    "print(prices_df['Close'])\n",
    "\n",
    "# Function to predict prices using a simple moving average\n",
    "def predict_prices(data, window_size):\n",
    "    return data['Close'].rolling(window=window_size).mean().shift(-window_size)\n",
    "\n",
    "# Choose the window size for the moving average\n",
    "window_size = 15  # Adjust based on your analysis\n",
    "\n",
    "# Predict prices using the moving average\n",
    "predicted_prices = predict_prices(prices_df, window_size)\n",
    "\n",
    "# Visualize the original and predicted prices\n",
    "plt.figure(figsize=(12, 6))\n",
    "plt.plot(prices_df['Close'], label='Actual Prices')\n",
    "plt.plot(predicted_prices, label=f'Predicted Prices (Moving Average, {window_size} days)')\n",
    "plt.title('Actual vs Predicted Prices using Moving Average')\n",
    "plt.xlabel('Date')\n",
    "plt.ylabel('Prices')\n",
    "plt.legend()\n",
    "plt.show()\n",
    "\n",
    "print(predicted_prices)\n",
    "\n",
    "def calculate_returns_and_states(close_prices):\n",
    "    returns = close_prices.pct_change().fillna(0)\n",
    "    states = pd.cut(returns, bins=[-float('inf'), -0.0001, 0.0001, float('inf')], labels=[-1, 0, 1])\n",
    "    print(returns, states)\n",
    "    return returns, states\n",
    "\n",
    "def calculate_transition_distribution(states):\n",
    "    transition_matrix = pd.crosstab(states.shift(), states, normalize='index')\n",
    "    return transition_matrix\n",
    "\n",
    "def make_decisions_and_update_portfolio(returns, states):\n",
    "    portfolio_value = 0\n",
    "    buy_indices = []\n",
    "\n",
    "    for i in range(2, len(states)):\n",
    "        if states[i] == 1 and states[i - 1] == 0:\n",
    "            portfolio_value += 1\n",
    "            buy_indices.append(i-1)\n",
    "        #elif states[i] == -1 and states[i - 1] == 0:\n",
    "            #portfolio_value -= 1\n",
    "            #buy_indices.append(i-1)\n",
    "\n",
    "    return portfolio_value, buy_indices\n",
    "\n",
    "returns, states = calculate_returns_and_states(predicted_prices)\n",
    "portfolio_value, buy_indices = make_decisions_and_update_portfolio(returns, states)\n",
    "\n",
    "# Display the results\n",
    "print(f\"Portfolio Value (V(N)): {portfolio_value}\")\n",
    "print(\"Optimal Buy Indices:\", buy_indices)"
   ]
  },
  {
   "cell_type": "markdown",
   "id": "32512c35-0082-4d82-8c3f-f0c57e22c949",
   "metadata": {
    "tags": []
   },
   "source": [
    "##### Checking predictions using 2022 Data"
   ]
  },
  {
   "cell_type": "code",
   "execution_count": 285,
   "id": "53dc07b7-4269-4f26-b84b-cfe337f718ad",
   "metadata": {
    "tags": []
   },
   "outputs": [
    {
     "name": "stdout",
     "output_type": "stream",
     "text": [
      "0      179.4980\n",
      "1      177.2199\n",
      "2      172.5058\n",
      "3      169.6261\n",
      "4      169.7938\n",
      "         ...   \n",
      "246    130.9600\n",
      "247    129.1424\n",
      "248    125.1797\n",
      "249    128.7253\n",
      "250    129.0431\n",
      "Name: Close, Length: 251, dtype: float64\n"
     ]
    },
    {
     "data": {
      "image/png": "[encoded data removed]",
      "text/plain": [
       "<Figure size 864x432 with 1 Axes>"
      ]
     },
     "metadata": {},
     "output_type": "display_data"
    },
    {
     "name": "stdout",
     "output_type": "stream",
     "text": [
      "0      169.904733\n",
      "1      168.483783\n",
      "2      167.390750\n",
      "3      166.386475\n",
      "4      165.360825\n",
      "          ...    \n",
      "246           NaN\n",
      "247           NaN\n",
      "248           NaN\n",
      "249           NaN\n",
      "250           NaN\n",
      "Name: Close, Length: 251, dtype: float64\n",
      "0      0.000000\n",
      "1     -0.008363\n",
      "2     -0.006487\n",
      "3     -0.006000\n",
      "4     -0.006164\n",
      "         ...   \n",
      "246    0.000000\n",
      "247    0.000000\n",
      "248    0.000000\n",
      "249    0.000000\n",
      "250    0.000000\n",
      "Name: Close, Length: 251, dtype: float64 0      0\n",
      "1     -1\n",
      "2     -1\n",
      "3     -1\n",
      "4     -1\n",
      "      ..\n",
      "246    0\n",
      "247    0\n",
      "248    0\n",
      "249    0\n",
      "250    0\n",
      "Name: Close, Length: 251, dtype: category\n",
      "Categories (3, int64): [-1 < 0 < 1]\n",
      "Portfolio Value (V(N)): 1\n",
      "Optimal Buy Indices: [186]\n"
     ]
    }
   ],
   "source": [
    "import pandas as pd\n",
    "import numpy as np\n",
    "import matplotlib.pyplot as plt\n",
    "\n",
    "prices22 = price_data22['FIBBG000B9XRY4']['Close'].to_list()\n",
    "prices_df22 = pd.DataFrame({'Close': prices22})\n",
    "print(prices_df22['Close'])\n",
    "\n",
    "# Function to predict prices using a simple moving average\n",
    "def predict_prices(data, window_size):\n",
    "    return data['Close'].rolling(window=window_size).mean().shift(-window_size)\n",
    "\n",
    "# Choose the window size for the moving average\n",
    "window_size = 12 # Adjust based on your analysis\n",
    "\n",
    "# Predict prices using the moving average\n",
    "predicted_prices = predict_prices(prices_df22, window_size)\n",
    "\n",
    "# Visualize the original and predicted prices\n",
    "plt.figure(figsize=(12, 6))\n",
    "plt.plot(prices_df22['Close'], label='Actual Prices')\n",
    "plt.plot(predicted_prices, label=f'Predicted Prices (Moving Average, {window_size} days)')\n",
    "plt.title('Actual vs Predicted Prices using Moving Average')\n",
    "plt.xlabel('Date')\n",
    "plt.ylabel('Prices')\n",
    "plt.legend()\n",
    "plt.show()\n",
    "\n",
    "print(predicted_prices)\n",
    "\n",
    "def calculate_returns_and_states(close_prices):\n",
    "    returns = close_prices.pct_change().fillna(0)\n",
    "    states = pd.cut(returns, bins=[-float('inf'), -0.0001, 0.0001, float('inf')], labels=[-1, 0, 1])\n",
    "    print(returns, states)\n",
    "    return returns, states\n",
    "\n",
    "def make_decisions_and_update_portfolio(returns, states):\n",
    "    portfolio_value = 0\n",
    "    buy_indices = []\n",
    "\n",
    "    for i in range(2, len(states)):\n",
    "        if states[i] == 1 and states[i - 1] == 0:\n",
    "            portfolio_value += 1\n",
    "            buy_indices.append(i-1)\n",
    "        #elif states[i] == -1 and states[i - 1] == 0:\n",
    "            #portfolio_value -= 1\n",
    "            #buy_indices.append(i-1)\n",
    "\n",
    "    return portfolio_value, buy_indices\n",
    "\n",
    "returns, states = calculate_returns_and_states(predicted_prices)\n",
    "portfolio_value, buy_indices = make_decisions_and_update_portfolio(returns, states)\n",
    "\n",
    "# Display the results\n",
    "print(f\"Portfolio Value (V(N)): {portfolio_value}\")\n",
    "print(\"Optimal Buy Indices:\", buy_indices)"
   ]
  },
  {
   "cell_type": "markdown",
   "id": "5c42a64e-5c6c-4e29-a5fd-a422efb9a576",
   "metadata": {
    "tags": []
   },
   "source": [
    "#### Momentum"
   ]
  },
  {
   "cell_type": "code",
   "execution_count": 326,
   "id": "c36f0f1b-c43c-4992-971b-9543a2bce39f",
   "metadata": {
    "tags": []
   },
   "outputs": [],
   "source": [
    "# Using momentum and multiplying it by TPM to predict the states"
   ]
  },
  {
   "cell_type": "markdown",
   "id": "10f72030-5e25-4fb9-bcbe-5f826c0460c5",
   "metadata": {
    "tags": []
   },
   "source": [
    "# Solution"
   ]
  },
  {
   "cell_type": "markdown",
   "id": "f754ebf7-4a71-46a8-9b62-8aa82c4f3011",
   "metadata": {
    "tags": []
   },
   "source": [
    "## Considering return as percentage : (when range is [-0.01, 0.01])"
   ]
  },
  {
   "cell_type": "markdown",
   "id": "c4207531-b46b-4b3e-ae75-6e315185ce1f",
   "metadata": {
    "tags": []
   },
   "source": [
    "#### Considering Losses :\n",
    "* Portfolio - 2\n",
    "* Optimal BuyIndices - [ 78, 92 ]"
   ]
  },
  {
   "cell_type": "markdown",
   "id": "de1d4cfa-983d-419f-9624-fd4cc812c9b1",
   "metadata": {
    "tags": []
   },
   "source": [
    "#### Not Considering Losses :\n",
    "* Portfolio - 2\n",
    "* Optimal BuyIndices - [ 78, 92 ]"
   ]
  },
  {
   "cell_type": "markdown",
   "id": "3fe9eb9d-ec4e-40ec-ab45-bc2cf4a788fe",
   "metadata": {},
   "source": [
    "<hr>"
   ]
  },
  {
   "cell_type": "markdown",
   "id": "13d28cd1-3b33-4b62-b360-ee3bdd397e6a",
   "metadata": {
    "tags": []
   },
   "source": [
    "## Considering return as fraction :  (when range is [-0.01, 0.01])"
   ]
  },
  {
   "cell_type": "markdown",
   "id": "6e9a014e-00aa-4f83-a1b5-a855a29306ae",
   "metadata": {},
   "source": [
    "#### Considering Losses :\n",
    "* Portfolio - 17\n",
    "* Optimal BuyIndices - [5, 7, 11, 15, 20, 27, 29, 32, 35, 38, 40, 44, 49, 51, 56, 58, 60, 63, 65, 68, 78, 84, 87, 93, 96, 99, 102, 107, 109, 112, 116, 119, 122, 127, 132, 135, 141, 144, 146, 153, 155, 159, 163, 168, 172, 176, 178, 182, 186, 190, 195, 200, 203, 206, 208, 211, 215, 217, 231, 233, 235, 237, 242]"
   ]
  },
  {
   "cell_type": "markdown",
   "id": "a13931e4-d7dd-4db8-9417-2cb4d0afa827",
   "metadata": {
    "tags": []
   },
   "source": [
    "#### Not Considering Losses :\n",
    "* Portfolio - 40\n",
    "* Optimal BuyIndices - [5, 7, 11, 15, 20, 27, 29, 40, 49, 51, 58, 60, 68, 78, 84, 87, 93, 99, 102, 107, 109, 112, 116, 119, 122, 132, 141, 159, 163, 176, 186, 190, 206, 208, 211, 215, 217, 231, 233, 237]"
   ]
  },
  {
   "cell_type": "markdown",
   "id": "b1291e72-9395-414e-bc10-fde7a91bfad7",
   "metadata": {
    "tags": []
   },
   "source": [
    "<hr>"
   ]
  },
  {
   "cell_type": "markdown",
   "id": "4db86b64-26b0-424c-8917-80a362e89225",
   "metadata": {
    "tags": []
   },
   "source": [
    "## Considering return as percentage :  (when range is [-0.1, 0.1])"
   ]
  },
  {
   "cell_type": "markdown",
   "id": "02f92f13-d99a-48b4-bd6c-39fa3f6d6982",
   "metadata": {},
   "source": [
    "#### Considering Losses :\n",
    "* Portfolio - 0\n",
    "* Optimal BuyIndices - []\n",
    "\n",
    "#### Not Considering Losses :\n",
    "* Portfolio - 0\n",
    "* Optimal BuyIndices - []"
   ]
  },
  {
   "cell_type": "markdown",
   "id": "3478f2cc-7e12-4d8b-bf13-c74a789e0177",
   "metadata": {},
   "source": [
    "<hr>"
   ]
  },
  {
   "cell_type": "markdown",
   "id": "ef7d1a16-9262-49bd-aa8a-24793c1c6dd3",
   "metadata": {},
   "source": [
    "## Considering return as fraction :  (when range is [-0.1, 0.1])"
   ]
  },
  {
   "cell_type": "markdown",
   "id": "222b7b44-99fb-4fea-b180-ddebbc255262",
   "metadata": {},
   "source": [
    "#### Considering with Losses :\n",
    "* Portfolio - 5\n",
    "* Optimal BuyIndices - [7, 11, 71, 78, 81, 86, 92, 95, 102, 115, 132, 152, 197, 202, 221, 226, 239, 244, 247]\n",
    "\n",
    "#### Considering without Losses :\n",
    "* Portfolio - 12\n",
    "* Optimal BuyIndices - [7, 11, 71, 78, 92, 102, 132, 152, 202, 221, 226, 247]"
   ]
  },
  {
   "cell_type": "markdown",
   "id": "5204e283-3437-49de-9d55-6f5fc251b5d6",
   "metadata": {},
   "source": [
    "<hr>"
   ]
  }
 ],
 "metadata": {
  "kernelspec": {
   "display_name": "Python 3.9",
   "language": "python",
   "name": "python3"
  },
  "language_info": {
   "codemirror_mode": {
    "name": "ipython",
    "version": 3
   },
   "file_extension": ".py",
   "mimetype": "text/x-python",
   "name": "python",
   "nbconvert_exporter": "python",
   "pygments_lexer": "ipython3",
   "version": "3.9.12"
  }
 },
 "nbformat": 4,
 "nbformat_minor": 5
}
